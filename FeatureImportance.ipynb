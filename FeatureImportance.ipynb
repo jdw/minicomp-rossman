{
 "cells": [
  {
   "cell_type": "code",
   "execution_count": 1,
   "id": "occasional-preview",
   "metadata": {},
   "outputs": [],
   "source": [
    "from metric import metric\n",
    "\n",
    "import category_encoders as ce\n",
    "\n",
    "from sklearn.pipeline import Pipeline\n",
    "from sklearn.compose import ColumnTransformer\n",
    "from sklearn.preprocessing import StandardScaler\n",
    "from sklearn.preprocessing import OneHotEncoder\n",
    "from sklearn.ensemble import RandomForestRegressor\n",
    "\n",
    "from clean_database import DataCleaner"
   ]
  },
  {
   "cell_type": "code",
   "execution_count": 2,
   "id": "fixed-bowling",
   "metadata": {},
   "outputs": [],
   "source": [
    "dc = DataCleaner(\"data\")\n",
    "data = dc.get_clean_data()\n",
    "\n",
    "trainX = data.loc[:\"2013-07-31\"]\n",
    "testX = data.loc[\"2013-08-01\":]\n",
    "\n",
    "trainY = trainX[\"Sales\"]\n",
    "trainX.drop(\"Sales\", axis=1, inplace=True)\n",
    "\n",
    "testY = testX[\"Sales\"]\n",
    "testX.drop(\"Sales\", axis=1, inplace=True)\n",
    "\n",
    "ct = ColumnTransformer([\n",
    "        ( \"target_enc\", ce.target_encoder.TargetEncoder(cols=[\"Store\"]), [\"Store\"] ),\n",
    "        ('scaler', StandardScaler(), ['CompetitionDistance',\n",
    "       'CompetitionOpenSinceMonth', 'CompetitionOpenSinceYear', 'Promo2',\n",
    "       'Promo2SinceWeek', 'Promo2SinceYear', 'Year', 'Month',\n",
    "       'Day']),\n",
    "        (\"one_hot_enc\", OneHotEncoder(handle_unknown=\"ignore\"), ['StateHoliday', 'StoreType', 'Assortment', 'PromoInterval'])\n",
    "    ], remainder='passthrough')\n",
    "\n",
    "pipe = Pipeline([\n",
    "    (\"pre\", ct),\n",
    "    (\"rf\", RandomForestRegressor(verbose=1, n_jobs=16) )\n",
    "])"
   ]
  },
  {
   "cell_type": "code",
   "execution_count": 3,
   "id": "atmospheric-floor",
   "metadata": {},
   "outputs": [
    {
     "name": "stderr",
     "output_type": "stream",
     "text": [
      "/home/sascha/anaconda3/envs/mini-comp/lib/python3.8/site-packages/category_encoders/utils.py:21: FutureWarning: is_categorical is deprecated and will be removed in a future version.  Use is_categorical_dtype instead\n",
      "  elif pd.api.types.is_categorical(cols):\n",
      "[Parallel(n_jobs=16)]: Using backend ThreadingBackend with 16 concurrent workers.\n",
      "[Parallel(n_jobs=16)]: Done  18 tasks      | elapsed:    3.7s\n",
      "[Parallel(n_jobs=16)]: Done 100 out of 100 | elapsed:   12.5s finished\n",
      "[Parallel(n_jobs=16)]: Using backend ThreadingBackend with 16 concurrent workers.\n",
      "[Parallel(n_jobs=16)]: Done  18 tasks      | elapsed:    0.2s\n",
      "[Parallel(n_jobs=16)]: Done 100 out of 100 | elapsed:    0.6s finished\n"
     ]
    },
    {
     "name": "stdout",
     "output_type": "stream",
     "text": [
      "Training percentage mean squared error 8.366843203992895\n"
     ]
    },
    {
     "name": "stderr",
     "output_type": "stream",
     "text": [
      "[Parallel(n_jobs=16)]: Using backend ThreadingBackend with 16 concurrent workers.\n",
      "[Parallel(n_jobs=16)]: Done  18 tasks      | elapsed:    0.2s\n"
     ]
    },
    {
     "name": "stdout",
     "output_type": "stream",
     "text": [
      "Test percentage mean squared error 22.736565697488874\n"
     ]
    },
    {
     "name": "stderr",
     "output_type": "stream",
     "text": [
      "[Parallel(n_jobs=16)]: Done 100 out of 100 | elapsed:    0.8s finished\n"
     ]
    }
   ],
   "source": [
    "pipe.fit(trainX, trainY)\n",
    "print(f\"Training percentage mean squared error {metric( pipe.predict(trainX), trainY.values )}\")\n",
    "print(f\"Test percentage mean squared error {metric( pipe.predict(testX), testY.values )}\")"
   ]
  },
  {
   "cell_type": "code",
   "execution_count": 4,
   "id": "outstanding-salvation",
   "metadata": {},
   "outputs": [],
   "source": [
    "import numpy as np\n",
    "import matplotlib.pyplot as plt"
   ]
  },
  {
   "cell_type": "code",
   "execution_count": 6,
   "id": "vertical-learning",
   "metadata": {},
   "outputs": [],
   "source": [
    "tree_feature_importances = (\n",
    "    pipe.named_steps['rf'].feature_importances_)"
   ]
  },
  {
   "cell_type": "code",
   "execution_count": 15,
   "id": "polyphonic-database",
   "metadata": {},
   "outputs": [],
   "source": [
    "import pandas as pd"
   ]
  },
  {
   "cell_type": "code",
   "execution_count": 26,
   "id": "anonymous-wrong",
   "metadata": {},
   "outputs": [],
   "source": [
    "feature_name = [\"Store\", 'DayOfWeek', 'Promo', 'SchoolHoliday', 'CompetitionDistance',\n",
    "       'CompetitionOpenSinceMonth', 'CompetitionOpenSinceYear', 'Promo2',\n",
    "       'Promo2SinceWeek', 'Promo2SinceYear', 'Year', 'Month',\n",
    "       'Day']"
   ]
  },
  {
   "cell_type": "code",
   "execution_count": 27,
   "id": "transsexual-transparency",
   "metadata": {},
   "outputs": [],
   "source": [
    "cat = pipe.named_steps[\"pre\"].named_transformers_[\"one_hot_enc\"].categories_"
   ]
  },
  {
   "cell_type": "code",
   "execution_count": 28,
   "id": "gross-marker",
   "metadata": {},
   "outputs": [],
   "source": [
    "tmp = []\n",
    "for c in cat:\n",
    "    tmp.extend(c)\n",
    "    \n",
    "feature_name.extend(tmp)"
   ]
  },
  {
   "cell_type": "code",
   "execution_count": 40,
   "id": "common-hollow",
   "metadata": {},
   "outputs": [],
   "source": [
    "df = pd.DataFrame(zip(feature_name, tree_feature_importances), columns=[\"category\", \"importance\"])"
   ]
  },
  {
   "cell_type": "code",
   "execution_count": 42,
   "id": "reasonable-julian",
   "metadata": {},
   "outputs": [
    {
     "data": {
      "text/plain": [
       "<AxesSubplot:xlabel='category'>"
      ]
     },
     "execution_count": 42,
     "metadata": {},
     "output_type": "execute_result"
    },
    {
     "data": {
      "image/png": "[encoded data removed]",
      "text/plain": [
       "<Figure size 432x288 with 1 Axes>"
      ]
     },
     "metadata": {
      "needs_background": "light"
     },
     "output_type": "display_data"
    }
   ],
   "source": [
    "df.sort_values(by=\"importance\").plot.bar(x=\"category\", y=\"importance\")"
   ]
  }
 ],
 "metadata": {
  "kernelspec": {
   "display_name": "mini-comp",
   "language": "python",
   "name": "mini-comp"
  },
  "language_info": {
   "codemirror_mode": {
    "name": "ipython",
    "version": 3
   },
   "file_extension": ".py",
   "mimetype": "text/x-python",
   "name": "python",
   "nbconvert_exporter": "python",
   "pygments_lexer": "ipython3",
   "version": "3.8.5"
  }
 },
 "nbformat": 4,
 "nbformat_minor": 5
}
