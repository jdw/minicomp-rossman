{
 "cells": [
  {
   "cell_type": "code",
   "execution_count": 27,
   "id": "alive-wisdom",
   "metadata": {},
   "outputs": [],
   "source": [
    "from clean_database import DataCleaner\n",
    "dc = DataCleaner(\"data\")\n",
    "dc.convert_date()"
   ]
  },
  {
   "cell_type": "code",
   "execution_count": 28,
   "id": "applicable-soundtrack",
   "metadata": {},
   "outputs": [],
   "source": [
    "df = dc.data.copy()"
   ]
  },
  {
   "cell_type": "code",
   "execution_count": 29,
   "id": "freelance-memorabilia",
   "metadata": {},
   "outputs": [],
   "source": [
    "from datetime import datetime"
   ]
  },
  {
   "cell_type": "code",
   "execution_count": 37,
   "id": "several-corner",
   "metadata": {
    "scrolled": true
   },
   "outputs": [
    {
     "data": {
      "text/plain": [
       "datetime.datetime(2013, 6, 10, 0, 0)"
      ]
     },
     "execution_count": 37,
     "metadata": {},
     "output_type": "execute_result"
    }
   ],
   "source": [
    "date = datetime.strptime(\"2013-23-1\", '%Y-%W-%w')\n",
    "date"
   ]
  },
  {
   "cell_type": "code",
   "execution_count": 56,
   "id": "understanding-edwards",
   "metadata": {},
   "outputs": [
    {
     "data": {
      "text/plain": [
       "218"
      ]
     },
     "execution_count": 56,
     "metadata": {},
     "output_type": "execute_result"
    }
   ],
   "source": [
    "def promo_timedelta_feature( promo2, current, promo_week, promo_year ):\n",
    "    if promo2 == 1:\n",
    "        date = datetime.strptime(f\"{int(promo_year):04d}-{int(promo_week):02d}-1\", '%Y-%W-%w')\n",
    "        return (current-date).days\n",
    "    else:\n",
    "        return 0\n",
    "    \n",
    "promo_timedelta_feature(1,df.index[0], df.Promo2SinceWeek[0], df.Promo2SinceYear[0])"
   ]
  },
  {
   "cell_type": "code",
   "execution_count": 66,
   "id": "atomic-clinic",
   "metadata": {},
   "outputs": [
    {
     "name": "stdout",
     "output_type": "stream",
     "text": [
      "Collecting tqdm\n",
      "  Using cached tqdm-4.56.0-py2.py3-none-any.whl (72 kB)\n",
      "Installing collected packages: tqdm\n",
      "Successfully installed tqdm-4.56.0\n"
     ]
    }
   ],
   "source": [
    "!pip install tqdm"
   ]
  },
  {
   "cell_type": "code",
   "execution_count": 69,
   "id": "interested-format",
   "metadata": {},
   "outputs": [],
   "source": [
    "import tqdm"
   ]
  },
  {
   "cell_type": "code",
   "execution_count": 72,
   "id": "dynamic-works",
   "metadata": {},
   "outputs": [
    {
     "name": "stderr",
     "output_type": "stream",
     "text": [
      "618473it [01:01, 9975.39it/s] \n"
     ]
    }
   ],
   "source": [
    "new_feature = []\n",
    "for index, row in tqdm.tqdm(df.iterrows()):\n",
    "    new_feature.append( promo_timedelta_feature(row.Promo2, \n",
    "                                                index, \n",
    "                                                row.Promo2SinceWeek, \n",
    "                                                row.Promo2SinceYear) )"
   ]
  },
  {
   "cell_type": "code",
   "execution_count": 74,
   "id": "respiratory-highland",
   "metadata": {},
   "outputs": [],
   "source": [
    "df[\"agg_promo2\"] = new_feature"
   ]
  },
  {
   "cell_type": "code",
   "execution_count": null,
   "id": "korean-intellectual",
   "metadata": {},
   "outputs": [],
   "source": []
  }
 ],
 "metadata": {
  "kernelspec": {
   "display_name": "mini-comp",
   "language": "python",
   "name": "mini-comp"
  },
  "language_info": {
   "codemirror_mode": {
    "name": "ipython",
    "version": 3
   },
   "file_extension": ".py",
   "mimetype": "text/x-python",
   "name": "python",
   "nbconvert_exporter": "python",
   "pygments_lexer": "ipython3",
   "version": "3.8.5"
  }
 },
 "nbformat": 4,
 "nbformat_minor": 5
}
