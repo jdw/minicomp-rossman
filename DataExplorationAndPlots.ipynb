{
 "cells": [
  {
   "cell_type": "code",
   "execution_count": 1,
   "id": "available-transsexual",
   "metadata": {},
   "outputs": [],
   "source": [
    "from clean_database import DataCleaner"
   ]
  },
  {
   "cell_type": "code",
   "execution_count": 2,
   "id": "massive-repair",
   "metadata": {},
   "outputs": [],
   "source": [
    "dc = DataCleaner(\"data\")\n",
    "dc.drop_zero_sales()\n",
    "dc.drop_null_sales()\n",
    "dc.convert_date()\n",
    "\n",
    "df = dc.data"
   ]
  },
  {
   "cell_type": "code",
   "execution_count": 9,
   "id": "occupied-reservoir",
   "metadata": {},
   "outputs": [
    {
     "data": {
      "text/html": [
       "<div>\n",
       "<style scoped>\n",
       "    .dataframe tbody tr th:only-of-type {\n",
       "        vertical-align: middle;\n",
       "    }\n",
       "\n",
       "    .dataframe tbody tr th {\n",
       "        vertical-align: top;\n",
       "    }\n",
       "\n",
       "    .dataframe thead th {\n",
       "        text-align: right;\n",
       "    }\n",
       "</style>\n",
       "<table border=\"1\" class=\"dataframe\">\n",
       "  <thead>\n",
       "    <tr style=\"text-align: right;\">\n",
       "      <th></th>\n",
       "      <th>Store</th>\n",
       "      <th>DayOfWeek</th>\n",
       "      <th>Sales</th>\n",
       "      <th>Open</th>\n",
       "      <th>Promo</th>\n",
       "      <th>StateHoliday</th>\n",
       "      <th>SchoolHoliday</th>\n",
       "      <th>StoreType</th>\n",
       "      <th>Assortment</th>\n",
       "      <th>CompetitionDistance</th>\n",
       "      <th>CompetitionOpenSinceMonth</th>\n",
       "      <th>CompetitionOpenSinceYear</th>\n",
       "      <th>Promo2</th>\n",
       "      <th>Promo2SinceWeek</th>\n",
       "      <th>Promo2SinceYear</th>\n",
       "      <th>PromoInterval</th>\n",
       "      <th>Year</th>\n",
       "      <th>Month</th>\n",
       "      <th>Day</th>\n",
       "    </tr>\n",
       "    <tr>\n",
       "      <th>Date</th>\n",
       "      <th></th>\n",
       "      <th></th>\n",
       "      <th></th>\n",
       "      <th></th>\n",
       "      <th></th>\n",
       "      <th></th>\n",
       "      <th></th>\n",
       "      <th></th>\n",
       "      <th></th>\n",
       "      <th></th>\n",
       "      <th></th>\n",
       "      <th></th>\n",
       "      <th></th>\n",
       "      <th></th>\n",
       "      <th></th>\n",
       "      <th></th>\n",
       "      <th></th>\n",
       "      <th></th>\n",
       "      <th></th>\n",
       "    </tr>\n",
       "  </thead>\n",
       "  <tbody>\n",
       "    <tr>\n",
       "      <th>2013-01-02</th>\n",
       "      <td>1115.0</td>\n",
       "      <td>3.0</td>\n",
       "      <td>3697.0</td>\n",
       "      <td>1.0</td>\n",
       "      <td>0.0</td>\n",
       "      <td>0</td>\n",
       "      <td>1.0</td>\n",
       "      <td>d</td>\n",
       "      <td>c</td>\n",
       "      <td>5350.0</td>\n",
       "      <td>NaN</td>\n",
       "      <td>NaN</td>\n",
       "      <td>1</td>\n",
       "      <td>22.0</td>\n",
       "      <td>2012.0</td>\n",
       "      <td>Mar,Jun,Sept,Dec</td>\n",
       "      <td>2013</td>\n",
       "      <td>1</td>\n",
       "      <td>2</td>\n",
       "    </tr>\n",
       "  </tbody>\n",
       "</table>\n",
       "</div>"
      ],
      "text/plain": [
       "             Store  DayOfWeek   Sales  Open  Promo StateHoliday  \\\n",
       "Date                                                              \n",
       "2013-01-02  1115.0        3.0  3697.0   1.0    0.0            0   \n",
       "\n",
       "            SchoolHoliday StoreType Assortment  CompetitionDistance  \\\n",
       "Date                                                                  \n",
       "2013-01-02            1.0         d          c               5350.0   \n",
       "\n",
       "            CompetitionOpenSinceMonth  CompetitionOpenSinceYear  Promo2  \\\n",
       "Date                                                                      \n",
       "2013-01-02                        NaN                       NaN       1   \n",
       "\n",
       "            Promo2SinceWeek  Promo2SinceYear     PromoInterval  Year  Month  \\\n",
       "Date                                                                          \n",
       "2013-01-02             22.0           2012.0  Mar,Jun,Sept,Dec  2013      1   \n",
       "\n",
       "            Day  \n",
       "Date             \n",
       "2013-01-02    2  "
      ]
     },
     "execution_count": 9,
     "metadata": {},
     "output_type": "execute_result"
    }
   ],
   "source": [
    "df.head(1)"
   ]
  },
  {
   "cell_type": "markdown",
   "id": "blond-korean",
   "metadata": {},
   "source": [
    "- How is the target:"
   ]
  },
  {
   "cell_type": "code",
   "execution_count": 11,
   "id": "sticky-flooring",
   "metadata": {},
   "outputs": [
    {
     "data": {
      "text/plain": [
       "<AxesSubplot:>"
      ]
     },
     "execution_count": 11,
     "metadata": {},
     "output_type": "execute_result"
    },
    {
     "data": {
      "image/png": "[encoded data removed]",
      "text/plain": [
       "<Figure size 432x288 with 1 Axes>"
      ]
     },
     "metadata": {
      "needs_background": "light"
     },
     "output_type": "display_data"
    }
   ],
   "source": [
    "df.Sales.hist()"
   ]
  },
  {
   "cell_type": "markdown",
   "id": "operational-implement",
   "metadata": {},
   "source": [
    "# Plot Columns"
   ]
  },
  {
   "cell_type": "markdown",
   "id": "circular-paragraph",
   "metadata": {},
   "source": [
    "Lets explore the columns one by one:"
   ]
  },
  {
   "cell_type": "markdown",
   "id": "material-insertion",
   "metadata": {},
   "source": [
    "### Day of week"
   ]
  },
  {
   "cell_type": "code",
   "execution_count": 10,
   "id": "italic-girlfriend",
   "metadata": {},
   "outputs": [
    {
     "data": {
      "text/plain": [
       "<AxesSubplot:>"
      ]
     },
     "execution_count": 10,
     "metadata": {},
     "output_type": "execute_result"
    },
    {
     "data": {
      "image/png": "[encoded data removed]",
      "text/plain": [
       "<Figure size 432x288 with 1 Axes>"
      ]
     },
     "metadata": {
      "needs_background": "light"
     },
     "output_type": "display_data"
    }
   ],
   "source": [
    "df.DayOfWeek.hist(bins=7)"
   ]
  },
  {
   "cell_type": "markdown",
   "id": "prostate-adjustment",
   "metadata": {},
   "source": [
    "### Open"
   ]
  },
  {
   "cell_type": "code",
   "execution_count": 12,
   "id": "palestinian-trade",
   "metadata": {},
   "outputs": [
    {
     "data": {
      "text/plain": [
       "<AxesSubplot:>"
      ]
     },
     "execution_count": 12,
     "metadata": {},
     "output_type": "execute_result"
    },
    {
     "data": {
      "image/png": "[encoded data removed]",
      "text/plain": [
       "<Figure size 432x288 with 1 Axes>"
      ]
     },
     "metadata": {
      "needs_background": "light"
     },
     "output_type": "display_data"
    }
   ],
   "source": [
    "df.Open.hist()"
   ]
  },
  {
   "cell_type": "markdown",
   "id": "returning-madagascar",
   "metadata": {},
   "source": [
    "After dropping all zeros from sales, the open column is always 1. We can drop it too!"
   ]
  },
  {
   "cell_type": "markdown",
   "id": "subject-collins",
   "metadata": {},
   "source": [
    "### Promo"
   ]
  },
  {
   "cell_type": "code",
   "execution_count": 16,
   "id": "speaking-configuration",
   "metadata": {},
   "outputs": [
    {
     "data": {
      "text/plain": [
       "<AxesSubplot:>"
      ]
     },
     "execution_count": 16,
     "metadata": {},
     "output_type": "execute_result"
    },
    {
     "data": {
      "image/png": "[encoded data removed]",
      "text/plain": [
       "<Figure size 432x288 with 1 Axes>"
      ]
     },
     "metadata": {
      "needs_background": "light"
     },
     "output_type": "display_data"
    }
   ],
   "source": [
    "df.Promo.hist()"
   ]
  },
  {
   "cell_type": "markdown",
   "id": "advised-patient",
   "metadata": {},
   "source": [
    "### State Holiday"
   ]
  },
  {
   "cell_type": "code",
   "execution_count": 17,
   "id": "medieval-absorption",
   "metadata": {},
   "outputs": [
    {
     "data": {
      "text/plain": [
       "<AxesSubplot:>"
      ]
     },
     "execution_count": 17,
     "metadata": {},
     "output_type": "execute_result"
    },
    {
     "data": {
      "image/png": "[encoded data removed]",
      "text/plain": [
       "<Figure size 432x288 with 1 Axes>"
      ]
     },
     "metadata": {
      "needs_background": "light"
     },
     "output_type": "display_data"
    }
   ],
   "source": [
    "df.StateHoliday.hist()"
   ]
  },
  {
   "cell_type": "markdown",
   "id": "freelance-auditor",
   "metadata": {},
   "source": [
    "Seems like this column is zero most of the time!"
   ]
  },
  {
   "cell_type": "code",
   "execution_count": 21,
   "id": "spare-encoding",
   "metadata": {},
   "outputs": [
    {
     "data": {
      "text/plain": [
       "<AxesSubplot:>"
      ]
     },
     "execution_count": 21,
     "metadata": {},
     "output_type": "execute_result"
    },
    {
     "data": {
      "image/png": "[encoded data removed]",
      "text/plain": [
       "<Figure size 432x288 with 1 Axes>"
      ]
     },
     "metadata": {
      "needs_background": "light"
     },
     "output_type": "display_data"
    }
   ],
   "source": [
    "df[df.StateHoliday != \"0\"].StateHoliday.hist()"
   ]
  },
  {
   "cell_type": "markdown",
   "id": "dirty-bhutan",
   "metadata": {},
   "source": [
    "### School Holiday"
   ]
  },
  {
   "cell_type": "code",
   "execution_count": 22,
   "id": "informative-baking",
   "metadata": {},
   "outputs": [
    {
     "data": {
      "text/plain": [
       "<AxesSubplot:>"
      ]
     },
     "execution_count": 22,
     "metadata": {},
     "output_type": "execute_result"
    },
    {
     "data": {
      "image/png": "[encoded data removed]",
      "text/plain": [
       "<Figure size 432x288 with 1 Axes>"
      ]
     },
     "metadata": {
      "needs_background": "light"
     },
     "output_type": "display_data"
    }
   ],
   "source": [
    "df.SchoolHoliday.hist()"
   ]
  },
  {
   "cell_type": "markdown",
   "id": "graphic-moderator",
   "metadata": {},
   "source": [
    "### Store Type"
   ]
  },
  {
   "cell_type": "code",
   "execution_count": 23,
   "id": "exterior-vietnamese",
   "metadata": {},
   "outputs": [
    {
     "data": {
      "text/plain": [
       "<AxesSubplot:>"
      ]
     },
     "execution_count": 23,
     "metadata": {},
     "output_type": "execute_result"
    },
    {
     "data": {
      "image/png": "[encoded data removed]",
      "text/plain": [
       "<Figure size 432x288 with 1 Axes>"
      ]
     },
     "metadata": {
      "needs_background": "light"
     },
     "output_type": "display_data"
    }
   ],
   "source": [
    "df.StoreType.hist()"
   ]
  },
  {
   "cell_type": "markdown",
   "id": "shaped-reward",
   "metadata": {},
   "source": [
    "### Assortment"
   ]
  },
  {
   "cell_type": "code",
   "execution_count": 24,
   "id": "engaging-concentrate",
   "metadata": {},
   "outputs": [
    {
     "data": {
      "text/plain": [
       "<AxesSubplot:>"
      ]
     },
     "execution_count": 24,
     "metadata": {},
     "output_type": "execute_result"
    },
    {
     "data": {
      "image/png": "[encoded data removed]",
      "text/plain": [
       "<Figure size 432x288 with 1 Axes>"
      ]
     },
     "metadata": {
      "needs_background": "light"
     },
     "output_type": "display_data"
    }
   ],
   "source": [
    "df.Assortment.hist()"
   ]
  },
  {
   "cell_type": "markdown",
   "id": "organizational-clause",
   "metadata": {},
   "source": [
    "### Competition Distance"
   ]
  },
  {
   "cell_type": "code",
   "execution_count": 25,
   "id": "champion-cleaning",
   "metadata": {},
   "outputs": [
    {
     "data": {
      "text/plain": [
       "<AxesSubplot:>"
      ]
     },
     "execution_count": 25,
     "metadata": {},
     "output_type": "execute_result"
    },
    {
     "data": {
      "image/png": "[encoded data removed]",
      "text/plain": [
       "<Figure size 432x288 with 1 Axes>"
      ]
     },
     "metadata": {
      "needs_background": "light"
     },
     "output_type": "display_data"
    }
   ],
   "source": [
    "df.CompetitionDistance.hist()"
   ]
  },
  {
   "cell_type": "code",
   "execution_count": 28,
   "id": "psychological-provision",
   "metadata": {},
   "outputs": [
    {
     "data": {
      "text/plain": [
       "(20.0, 75860.0)"
      ]
     },
     "execution_count": 28,
     "metadata": {},
     "output_type": "execute_result"
    }
   ],
   "source": [
    "df.CompetitionDistance.min(), df.CompetitionDistance.max()"
   ]
  },
  {
   "cell_type": "markdown",
   "id": "accredited-cuisine",
   "metadata": {},
   "source": [
    "### Competition Open Since (Month/Year)"
   ]
  },
  {
   "cell_type": "code",
   "execution_count": 33,
   "id": "advised-saskatchewan",
   "metadata": {},
   "outputs": [
    {
     "data": {
      "text/plain": [
       "array([[<AxesSubplot:title={'center':'CompetitionOpenSinceMonth'}>,\n",
       "        <AxesSubplot:title={'center':'CompetitionOpenSinceYear'}>]],\n",
       "      dtype=object)"
      ]
     },
     "execution_count": 33,
     "metadata": {},
     "output_type": "execute_result"
    },
    {
     "data": {
      "image/png": "[encoded data removed]",
      "text/plain": [
       "<Figure size 432x288 with 2 Axes>"
      ]
     },
     "metadata": {
      "needs_background": "light"
     },
     "output_type": "display_data"
    }
   ],
   "source": [
    "df[[\"CompetitionOpenSinceMonth\",\"CompetitionOpenSinceYear\"]].hist()"
   ]
  },
  {
   "cell_type": "code",
   "execution_count": 34,
   "id": "plastic-discharge",
   "metadata": {},
   "outputs": [
    {
     "data": {
      "text/plain": [
       "1900.0"
      ]
     },
     "execution_count": 34,
     "metadata": {},
     "output_type": "execute_result"
    }
   ],
   "source": [
    "df.CompetitionOpenSinceYear.min()"
   ]
  },
  {
   "cell_type": "markdown",
   "id": "valid-setting",
   "metadata": {},
   "source": [
    "### Promo"
   ]
  },
  {
   "cell_type": "code",
   "execution_count": 35,
   "id": "foreign-group",
   "metadata": {},
   "outputs": [
    {
     "data": {
      "text/plain": [
       "<AxesSubplot:>"
      ]
     },
     "execution_count": 35,
     "metadata": {},
     "output_type": "execute_result"
    },
    {
     "data": {
      "image/png": "[encoded data removed]",
      "text/plain": [
       "<Figure size 432x288 with 1 Axes>"
      ]
     },
     "metadata": {
      "needs_background": "light"
     },
     "output_type": "display_data"
    }
   ],
   "source": [
    "df.Promo.hist()"
   ]
  },
  {
   "cell_type": "markdown",
   "id": "impressed-drilling",
   "metadata": {},
   "source": [
    "### Promo2"
   ]
  },
  {
   "cell_type": "code",
   "execution_count": 36,
   "id": "patent-happening",
   "metadata": {},
   "outputs": [
    {
     "data": {
      "text/plain": [
       "<AxesSubplot:>"
      ]
     },
     "execution_count": 36,
     "metadata": {},
     "output_type": "execute_result"
    },
    {
     "data": {
      "image/png": "[encoded data removed]",
      "text/plain": [
       "<Figure size 432x288 with 1 Axes>"
      ]
     },
     "metadata": {
      "needs_background": "light"
     },
     "output_type": "display_data"
    }
   ],
   "source": [
    "df.Promo2.hist()"
   ]
  },
  {
   "cell_type": "markdown",
   "id": "capital-listening",
   "metadata": {},
   "source": [
    "### Promo2Since[Year/Month]"
   ]
  },
  {
   "cell_type": "code",
   "execution_count": 38,
   "id": "promising-infrared",
   "metadata": {},
   "outputs": [
    {
     "data": {
      "text/plain": [
       "array([[<AxesSubplot:title={'center':'Promo2SinceWeek'}>,\n",
       "        <AxesSubplot:title={'center':'Promo2SinceYear'}>]], dtype=object)"
      ]
     },
     "execution_count": 38,
     "metadata": {},
     "output_type": "execute_result"
    },
    {
     "data": {
      "image/png": "[encoded data removed]",
      "text/plain": [
       "<Figure size 432x288 with 2 Axes>"
      ]
     },
     "metadata": {
      "needs_background": "light"
     },
     "output_type": "display_data"
    }
   ],
   "source": [
    "df[[\"Promo2SinceWeek\", \"Promo2SinceYear\"]].hist()"
   ]
  },
  {
   "cell_type": "markdown",
   "id": "outer-mainstream",
   "metadata": {},
   "source": [
    "### Promo Interval"
   ]
  },
  {
   "cell_type": "code",
   "execution_count": 39,
   "id": "threaded-palmer",
   "metadata": {},
   "outputs": [
    {
     "data": {
      "text/plain": [
       "<AxesSubplot:>"
      ]
     },
     "execution_count": 39,
     "metadata": {},
     "output_type": "execute_result"
    },
    {
     "data": {
      "image/png": "[encoded data removed]",
      "text/plain": [
       "<Figure size 432x288 with 1 Axes>"
      ]
     },
     "metadata": {
      "needs_background": "light"
     },
     "output_type": "display_data"
    }
   ],
   "source": [
    "df.PromoInterval.hist()"
   ]
  },
  {
   "cell_type": "markdown",
   "id": "tender-support",
   "metadata": {},
   "source": [
    "# Nulls (and possible fill strategies)"
   ]
  },
  {
   "cell_type": "code",
   "execution_count": 41,
   "id": "modified-murray",
   "metadata": {},
   "outputs": [
    {
     "name": "stdout",
     "output_type": "stream",
     "text": [
      "<class 'pandas.core.frame.DataFrame'>\n",
      "DatetimeIndex: 497376 entries, 2013-01-02 to 2014-06-30\n",
      "Data columns (total 19 columns):\n",
      " #   Column                     Non-Null Count   Dtype  \n",
      "---  ------                     --------------   -----  \n",
      " 0   Store                      497376 non-null  float64\n",
      " 1   DayOfWeek                  482566 non-null  float64\n",
      " 2   Sales                      497376 non-null  float64\n",
      " 3   Open                       482366 non-null  float64\n",
      " 4   Promo                      482364 non-null  float64\n",
      " 5   StateHoliday               482345 non-null  object \n",
      " 6   SchoolHoliday              482283 non-null  float64\n",
      " 7   StoreType                  497376 non-null  object \n",
      " 8   Assortment                 497376 non-null  object \n",
      " 9   CompetitionDistance        496071 non-null  float64\n",
      " 10  CompetitionOpenSinceMonth  339309 non-null  float64\n",
      " 11  CompetitionOpenSinceYear   339309 non-null  float64\n",
      " 12  Promo2                     497376 non-null  int64  \n",
      " 13  Promo2SinceWeek            252416 non-null  float64\n",
      " 14  Promo2SinceYear            252416 non-null  float64\n",
      " 15  PromoInterval              252416 non-null  object \n",
      " 16  Year                       497376 non-null  int64  \n",
      " 17  Month                      497376 non-null  int64  \n",
      " 18  Day                        497376 non-null  int64  \n",
      "dtypes: float64(11), int64(4), object(4)\n",
      "memory usage: 75.9+ MB\n"
     ]
    }
   ],
   "source": [
    "df.info()"
   ]
  },
  {
   "cell_type": "markdown",
   "id": "judicial-travel",
   "metadata": {},
   "source": [
    "### Day of week"
   ]
  },
  {
   "cell_type": "code",
   "execution_count": 42,
   "id": "moving-sheffield",
   "metadata": {},
   "outputs": [
    {
     "data": {
      "text/plain": [
       "14810"
      ]
     },
     "execution_count": 42,
     "metadata": {},
     "output_type": "execute_result"
    }
   ],
   "source": [
    "df.DayOfWeek.isnull().sum()"
   ]
  },
  {
   "cell_type": "markdown",
   "id": "chinese-unknown",
   "metadata": {},
   "source": [
    "Number of null values is quite low. Despite being a numeric column, taking the most frequent day of week is the most reasonable fill method!"
   ]
  },
  {
   "cell_type": "markdown",
   "id": "interested-vietnam",
   "metadata": {},
   "source": [
    "### Open\n",
    "\n",
    "Got dropped since the store needs to be open, to sell stuff."
   ]
  },
  {
   "cell_type": "markdown",
   "id": "chubby-coordinator",
   "metadata": {},
   "source": [
    "### Promo"
   ]
  },
  {
   "cell_type": "code",
   "execution_count": 43,
   "id": "associate-waters",
   "metadata": {},
   "outputs": [
    {
     "data": {
      "text/plain": [
       "15012"
      ]
     },
     "execution_count": 43,
     "metadata": {},
     "output_type": "execute_result"
    }
   ],
   "source": [
    "df.Promo.isnull().sum()"
   ]
  },
  {
   "cell_type": "code",
   "execution_count": 48,
   "id": "tropical-boston",
   "metadata": {},
   "outputs": [
    {
     "data": {
      "text/plain": [
       "array([1, 0])"
      ]
     },
     "execution_count": 48,
     "metadata": {},
     "output_type": "execute_result"
    }
   ],
   "source": [
    "df[df.Promo.isnull()].Promo2.unique()"
   ]
  },
  {
   "cell_type": "markdown",
   "id": "royal-argument",
   "metadata": {},
   "source": [
    "Its probably best to fill the Promo column with the values from Promo2. The reason is that with a continuous promotion running (as indicated by Promo2), they have by definition a promotion running at this day (as indicated by Promo)."
   ]
  },
  {
   "cell_type": "markdown",
   "id": "usual-prediction",
   "metadata": {},
   "source": [
    "### State Holiday"
   ]
  },
  {
   "cell_type": "code",
   "execution_count": 56,
   "id": "scientific-sustainability",
   "metadata": {},
   "outputs": [
    {
     "data": {
      "text/plain": [
       "15031"
      ]
     },
     "execution_count": 56,
     "metadata": {},
     "output_type": "execute_result"
    }
   ],
   "source": [
    "df.StateHoliday.isnull().sum()"
   ]
  },
  {
   "cell_type": "markdown",
   "id": "moved-wilderness",
   "metadata": {},
   "source": [
    "One approach might be to use the \"holiday\" module to fill in holidays where reasonable. But lets just fill with mode (no holiday), for the time being."
   ]
  },
  {
   "cell_type": "markdown",
   "id": "vietnamese-evolution",
   "metadata": {},
   "source": [
    "### School Holiday"
   ]
  },
  {
   "cell_type": "code",
   "execution_count": 68,
   "id": "finished-success",
   "metadata": {},
   "outputs": [
    {
     "data": {
      "text/plain": [
       "15093"
      ]
     },
     "execution_count": 68,
     "metadata": {},
     "output_type": "execute_result"
    }
   ],
   "source": [
    "df.SchoolHoliday.isnull().sum()"
   ]
  },
  {
   "cell_type": "markdown",
   "id": "disciplinary-scientist",
   "metadata": {},
   "source": [
    "Same as above ... let just fill with mode."
   ]
  },
  {
   "cell_type": "markdown",
   "id": "experienced-charter",
   "metadata": {},
   "source": [
    "### Competition Distance"
   ]
  },
  {
   "cell_type": "code",
   "execution_count": 69,
   "id": "fiscal-zoning",
   "metadata": {},
   "outputs": [
    {
     "data": {
      "text/plain": [
       "1305"
      ]
     },
     "execution_count": 69,
     "metadata": {},
     "output_type": "execute_result"
    }
   ],
   "source": [
    "df.CompetitionDistance.isnull().sum()"
   ]
  },
  {
   "cell_type": "code",
   "execution_count": 77,
   "id": "tight-flower",
   "metadata": {},
   "outputs": [],
   "source": [
    "stores_tmp = df[df.CompetitionDistance.isnull()].Store.unique()"
   ]
  },
  {
   "cell_type": "code",
   "execution_count": 78,
   "id": "sorted-lighting",
   "metadata": {},
   "outputs": [
    {
     "name": "stdout",
     "output_type": "stream",
     "text": [
      "Store number 291.0, misses all entries for CompetitionDistance True\n",
      "Store number 879.0, misses all entries for CompetitionDistance True\n",
      "Store number 622.0, misses all entries for CompetitionDistance True\n"
     ]
    }
   ],
   "source": [
    "for s in stores_tmp:\n",
    "    print(f\"Store number {s}, misses all entries for CompetitionDistance {df[df.Store == s].CompetitionDistance.isnull().all()}\")"
   ]
  },
  {
   "cell_type": "markdown",
   "id": "moral-snake",
   "metadata": {},
   "source": [
    "We are missing all values, for these three stores.\n",
    "- Fill with mean, for now.\n",
    "- We could try to get a more reasonable estimate by getting the mean from stores which are closest in other features (number of customers or similar)"
   ]
  },
  {
   "cell_type": "code",
   "execution_count": 79,
   "id": "severe-compression",
   "metadata": {},
   "outputs": [
    {
     "data": {
      "text/plain": [
       "5442.092301303644"
      ]
     },
     "execution_count": 79,
     "metadata": {},
     "output_type": "execute_result"
    }
   ],
   "source": [
    "df.CompetitionDistance.mean()"
   ]
  },
  {
   "cell_type": "markdown",
   "id": "electrical-beverage",
   "metadata": {},
   "source": [
    "### CompetitionOpenSince[Month/Year]"
   ]
  },
  {
   "cell_type": "code",
   "execution_count": 87,
   "id": "swiss-intent",
   "metadata": {},
   "outputs": [
    {
     "data": {
      "text/plain": [
       "(158067, 158067)"
      ]
     },
     "execution_count": 87,
     "metadata": {},
     "output_type": "execute_result"
    }
   ],
   "source": [
    "df.CompetitionOpenSinceMonth.isnull().sum(), df.CompetitionOpenSinceYear.isnull().sum()"
   ]
  },
  {
   "cell_type": "markdown",
   "id": "tracked-grave",
   "metadata": {},
   "source": [
    "Lets check if its the same rows that missing the values:"
   ]
  },
  {
   "cell_type": "code",
   "execution_count": 86,
   "id": "reverse-oxford",
   "metadata": {},
   "outputs": [
    {
     "data": {
      "text/plain": [
       "True"
      ]
     },
     "execution_count": 86,
     "metadata": {},
     "output_type": "execute_result"
    }
   ],
   "source": [
    "tmp_a = df[df.CompetitionOpenSinceMonth.isnull()].index\n",
    "tmp_b = df[df.CompetitionOpenSinceYear.isnull()].index\n",
    "(tmp_a == tmp_b).all()"
   ]
  },
  {
   "cell_type": "markdown",
   "id": "conservative-thing",
   "metadata": {},
   "source": [
    "### Promo2"
   ]
  },
  {
   "cell_type": "code",
   "execution_count": 88,
   "id": "nearby-block",
   "metadata": {},
   "outputs": [
    {
     "data": {
      "text/plain": [
       "0"
      ]
     },
     "execution_count": 88,
     "metadata": {},
     "output_type": "execute_result"
    }
   ],
   "source": [
    "df.Promo2.isnull().sum()"
   ]
  },
  {
   "cell_type": "markdown",
   "id": "processed-lucas",
   "metadata": {},
   "source": [
    "### Promo2Since[Week/Year]"
   ]
  },
  {
   "cell_type": "code",
   "execution_count": 89,
   "id": "overhead-castle",
   "metadata": {},
   "outputs": [
    {
     "data": {
      "text/plain": [
       "(244960, 244960)"
      ]
     },
     "execution_count": 89,
     "metadata": {},
     "output_type": "execute_result"
    }
   ],
   "source": [
    "df.Promo2SinceWeek.isnull().sum(), df.Promo2SinceYear.isnull().sum()"
   ]
  },
  {
   "cell_type": "code",
   "execution_count": 92,
   "id": "baking-aside",
   "metadata": {},
   "outputs": [
    {
     "data": {
      "text/plain": [
       "True"
      ]
     },
     "execution_count": 92,
     "metadata": {},
     "output_type": "execute_result"
    }
   ],
   "source": [
    "tmp_a = df[df.Promo2SinceWeek.isnull()].index\n",
    "tmp_b = df[df.Promo2SinceYear.isnull()].index\n",
    "(tmp_a == tmp_b).all()"
   ]
  },
  {
   "cell_type": "code",
   "execution_count": 96,
   "id": "checked-trinidad",
   "metadata": {},
   "outputs": [
    {
     "data": {
      "text/plain": [
       "True"
      ]
     },
     "execution_count": 96,
     "metadata": {},
     "output_type": "execute_result"
    }
   ],
   "source": [
    "(df[df.Promo2SinceWeek.isnull()].Promo2 == 0).all()"
   ]
  },
  {
   "cell_type": "markdown",
   "id": "twelve-benchmark",
   "metadata": {},
   "source": [
    "In absence of a better Idea: mean for year and mode for week..."
   ]
  },
  {
   "cell_type": "markdown",
   "id": "suffering-chuck",
   "metadata": {},
   "source": [
    "### Promo Interverval"
   ]
  },
  {
   "cell_type": "code",
   "execution_count": 97,
   "id": "genetic-istanbul",
   "metadata": {},
   "outputs": [
    {
     "data": {
      "text/plain": [
       "244960"
      ]
     },
     "execution_count": 97,
     "metadata": {},
     "output_type": "execute_result"
    }
   ],
   "source": [
    "df.PromoInterval.isnull().sum()"
   ]
  },
  {
   "cell_type": "code",
   "execution_count": null,
   "id": "portable-effect",
   "metadata": {},
   "outputs": [],
   "source": []
  }
 ],
 "metadata": {
  "kernelspec": {
   "display_name": "mini-comp",
   "language": "python",
   "name": "mini-comp"
  },
  "language_info": {
   "codemirror_mode": {
    "name": "ipython",
    "version": 3
   },
   "file_extension": ".py",
   "mimetype": "text/x-python",
   "name": "python",
   "nbconvert_exporter": "python",
   "pygments_lexer": "ipython3",
   "version": "3.8.5"
  }
 },
 "nbformat": 4,
 "nbformat_minor": 5
}
